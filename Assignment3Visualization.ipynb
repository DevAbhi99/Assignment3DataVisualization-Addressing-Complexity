{
 "cells": [
  {
   "cell_type": "code",
   "execution_count": 129,
   "id": "165a1839-2b0b-45c6-ac85-53f3ca92e409",
   "metadata": {},
   "outputs": [],
   "source": [
    "import pandas as pd\n",
    "import plotly.express as px\n",
    "from dash import Dash, dcc, html, Input, Output"
   ]
  },
  {
   "cell_type": "code",
   "execution_count": 131,
   "id": "9baee48d-27b0-4ef3-9987-020ef0101d79",
   "metadata": {},
   "outputs": [
    {
     "name": "stdout",
     "output_type": "stream",
     "text": [
      "Vaccination data loaded successfully!\n"
     ]
    }
   ],
   "source": [
    "vaccination_file_path = r\"C:\\Users\\TIRTHANKAR KHAUND\\Desktop\\LearnFNS\\Data Visualization\\Week3Assignment\\vaccinationdata.csv\"\n",
    "\n",
    "try:\n",
    "    vaccination_data = pd.read_csv(vaccination_file_path)\n",
    "    print(\"Vaccination data loaded successfully!\")\n",
    "except FileNotFoundError as e:\n",
    "    print(\"Error: Vaccination data file not found.\")\n",
    "    raise e\n"
   ]
  },
  {
   "cell_type": "code",
   "execution_count": 133,
   "id": "effa4097-d931-4250-a0ab-2f9055426db0",
   "metadata": {},
   "outputs": [
    {
     "name": "stdout",
     "output_type": "stream",
     "text": [
      "COVID-19 data loaded successfully!\n"
     ]
    }
   ],
   "source": [
    "covid_file_path = r\"C:\\Users\\TIRTHANKAR KHAUND\\Desktop\\LearnFNS\\Data Visualization\\Week3Assignment\\WHOCOVID19globaldata.csv\"\n",
    "\n",
    "try:\n",
    "    covid_data = pd.read_csv(covid_file_path)\n",
    "    print(\"COVID-19 data loaded successfully!\")\n",
    "except FileNotFoundError as e:\n",
    "    print(\"Error: COVID-19 data file not found.\")\n",
    "    raise e\n"
   ]
  },
  {
   "cell_type": "code",
   "execution_count": 135,
   "id": "4246aacb-f1ca-4630-a573-d1ec19b3fd6b",
   "metadata": {},
   "outputs": [],
   "source": [
    "# Columns to be displayed \n",
    "vaccination_numeric_columns = [\n",
    "    'TOTAL_VACCINATIONS',\n",
    "    'PERSONS_VACCINATED_1PLUS_DOSE',\n",
    "    'PERSONS_LAST_DOSE',\n",
    "    'PERSONS_BOOSTER_ADD_DOSE',\n",
    "    'TOTAL_VACCINATIONS_PER100',\n",
    "    'PERSONS_VACCINATED_1PLUS_DOSE_PER100',\n",
    "    'PERSONS_LAST_DOSE_PER100',\n",
    "    'PERSONS_BOOSTER_ADD_DOSE_PER100'\n",
    "]\n",
    "\n",
    "vaccination_cleaned_data = vaccination_data.dropna(subset=vaccination_numeric_columns + ['WHO_REGION'])\n",
    "\n",
    "vaccination_region_data = (\n",
    "    vaccination_cleaned_data.groupby('WHO_REGION')[vaccination_numeric_columns]\n",
    "    .mean()\n",
    "    .reset_index()\n",
    ")\n",
    "\n",
    "vaccination_region_data_long = vaccination_region_data.melt(\n",
    "    id_vars='WHO_REGION',\n",
    "    value_vars=vaccination_numeric_columns,\n",
    "    var_name='Metric',\n",
    "    value_name='Value'\n",
    ")"
   ]
  },
  {
   "cell_type": "code",
   "execution_count": 137,
   "id": "5e2eb6dd-2f13-44df-9e1e-d45bc43ec0db",
   "metadata": {},
   "outputs": [],
   "source": [
    "# Columns to be displayed\n",
    "covid_columns_of_interest = [\n",
    "    \"Cumulative_cases\",\n",
    "    \"Cumulative_deaths\",\n",
    "    \"New_cases\",\n",
    "    \"New_deaths\"\n",
    "]\n",
    "\n",
    "# Drop rows with missing data in relevant columns\n",
    "covid_cleaned_data = covid_data.dropna(subset=covid_columns_of_interest + [\"WHO_region\"])\n",
    "\n",
    "# Calculate mean of numeric columns grouped by WHO region\n",
    "covid_region_data = (\n",
    "    covid_cleaned_data.groupby(\"WHO_region\")[covid_columns_of_interest]\n",
    "    .mean()\n",
    "    .reset_index()\n",
    ")\n",
    "\n",
    "# Reshape data for visualization\n",
    "covid_region_data_long = covid_region_data.melt(\n",
    "    id_vars=\"WHO_region\",\n",
    "    value_vars=covid_columns_of_interest,\n",
    "    var_name=\"Metric\",\n",
    "    value_name=\"Value\"\n",
    ")"
   ]
  },
  {
   "cell_type": "code",
   "execution_count": 139,
   "id": "c54b9230-e578-4dd7-b624-375b96373689",
   "metadata": {},
   "outputs": [],
   "source": [
    "# Initializing Dash app\n",
    "app = Dash(__name__)\n",
    "\n",
    "app.layout = html.Div([\n",
    "    html.H1(\"Interactive Vaccination and COVID-19 Metrics by WHO Region\", style={'text-align': 'center', \"color\": \"white\"}),\n",
    "    \n",
    "    \n",
    "    html.Div([\n",
    "        html.Label(\"Select Dataset:\", style={'font-weight': 'bold', \"color\": \"white\"}),\n",
    "        dcc.Dropdown(\n",
    "            id='dataset-selector',\n",
    "            options=[\n",
    "                {'label': 'Vaccination Metrics', 'value': 'vaccination'},\n",
    "                {'label': 'COVID-19 Metrics', 'value': 'covid'}\n",
    "            ],\n",
    "            value='vaccination',\n",
    "            style={\n",
    "                'width': '50%',\n",
    "                'margin': '0 auto',\n",
    "                'background-color': 'lightgreen',  \n",
    "                'color': 'black'  \n",
    "            }\n",
    "        )\n",
    "    ], style={'text-align': 'center', 'margin-bottom': '20px'}),\n",
    "    \n",
    "    \n",
    "    html.Div([\n",
    "        html.Label(\"Select Chart Type:\", style={'font-weight': 'bold', \"color\": \"white\"}),\n",
    "        dcc.Dropdown(\n",
    "            id='chart-type-selector',\n",
    "            options=[\n",
    "                {'label': 'Bar Chart', 'value': 'bar'},\n",
    "                {'label': 'Bubble Chart', 'value': 'bubble'},\n",
    "                {'label': 'Line Chart', 'value': 'line'}\n",
    "            ],\n",
    "            value='bar',\n",
    "            style={\n",
    "                'width': '50%',\n",
    "                'margin': '0 auto',\n",
    "                'background-color': 'lightgreen',  \n",
    "                'color': 'black'  \n",
    "            }\n",
    "        )\n",
    "    ], style={'text-align': 'center', 'margin-bottom': '20px'}),\n",
    "    \n",
    "    \n",
    "    dcc.Graph(id='interactive-graph', style={'height': '700px'}),\n",
    "])\n"
   ]
  },
  {
   "cell_type": "code",
   "execution_count": 141,
   "id": "f84f793a-5d41-4a5a-9e92-a390b48c482f",
   "metadata": {},
   "outputs": [],
   "source": [
    "@app.callback(\n",
    "    Output('interactive-graph', 'figure'),\n",
    "    [\n",
    "        Input('dataset-selector', 'value'),\n",
    "        Input('chart-type-selector', 'value')\n",
    "    ]\n",
    ")\n",
    "def update_graph(selected_dataset, chart_type):\n",
    "    if selected_dataset == 'vaccination':\n",
    "        data = vaccination_region_data_long\n",
    "        x_col, y_col, color_col, size_col = 'WHO_REGION', 'Value', 'Metric', 'Value'\n",
    "        title = \"Vaccination Metrics by WHO Region\"\n",
    "    else:\n",
    "        data = covid_region_data_long\n",
    "        x_col, y_col, color_col, size_col = 'WHO_region', 'Value', 'Metric', 'Value'\n",
    "        title = \"COVID-19 Metrics by WHO Region\"\n",
    "\n",
    "    \n",
    "    if chart_type == 'bar':\n",
    "        fig = px.bar(data, x=x_col, y=y_col, color=color_col, title=title,\n",
    "                     labels={x_col: 'WHO Region', y_col: 'Value', color_col: 'Metric'},\n",
    "                     template='plotly_dark')\n",
    "    elif chart_type == 'bubble':\n",
    "        fig = px.scatter(data, x=x_col, y=y_col, color=color_col, size=size_col, title=title,\n",
    "                         labels={x_col: 'WHO Region', y_col: 'Value', color_col: 'Metric'},\n",
    "                         template='plotly_dark')\n",
    "    elif chart_type == 'line':\n",
    "        fig = px.line(data, x=x_col, y=y_col, color=color_col, title=title,\n",
    "                      labels={x_col: 'WHO Region', y_col: 'Value', color_col: 'Metric'},\n",
    "                      template='plotly_dark')\n",
    "    else:\n",
    "        fig = go.Figure()\n",
    "\n",
    "    fig.update_layout(\n",
    "        xaxis_title=\"WHO Region\",\n",
    "        yaxis_title=\"Value\",\n",
    "        legend_title=\"Metric\",\n",
    "        hovermode=\"closest\",\n",
    "        title_x=0.5,\n",
    "        plot_bgcolor='rgba(0,0,0,0)',\n",
    "        xaxis_tickangle=-45,\n",
    "        margin={\"t\": 50, \"b\": 100, \"l\": 50, \"r\": 50}\n",
    "    )\n",
    "    return fig\n"
   ]
  },
  {
   "cell_type": "code",
   "execution_count": 143,
   "id": "b82db579-1237-40b8-9ab8-1a5646906a65",
   "metadata": {},
   "outputs": [
    {
     "data": {
      "text/html": [
       "\n",
       "        <iframe\n",
       "            width=\"100%\"\n",
       "            height=\"650\"\n",
       "            src=\"http://127.0.0.1:8050/\"\n",
       "            frameborder=\"0\"\n",
       "            allowfullscreen\n",
       "            \n",
       "        ></iframe>\n",
       "        "
      ],
      "text/plain": [
       "<IPython.lib.display.IFrame at 0x24e8bdeea20>"
      ]
     },
     "metadata": {},
     "output_type": "display_data"
    }
   ],
   "source": [
    "if __name__ == '__main__':\n",
    "    app.run_server(debug=True)"
   ]
  },
  {
   "cell_type": "code",
   "execution_count": null,
   "id": "70cbb98f-cfd5-4fd7-8b34-281b5a3f4265",
   "metadata": {},
   "outputs": [],
   "source": []
  },
  {
   "cell_type": "code",
   "execution_count": null,
   "id": "595819c0-9981-4041-8f19-e485b222d6f1",
   "metadata": {},
   "outputs": [],
   "source": []
  },
  {
   "cell_type": "code",
   "execution_count": null,
   "id": "f026c258-2d0b-4c1c-b823-ea1bd673b006",
   "metadata": {},
   "outputs": [],
   "source": []
  }
 ],
 "metadata": {
  "kernelspec": {
   "display_name": "Python 3 (ipykernel)",
   "language": "python",
   "name": "python3"
  },
  "language_info": {
   "codemirror_mode": {
    "name": "ipython",
    "version": 3
   },
   "file_extension": ".py",
   "mimetype": "text/x-python",
   "name": "python",
   "nbconvert_exporter": "python",
   "pygments_lexer": "ipython3",
   "version": "3.12.4"
  }
 },
 "nbformat": 4,
 "nbformat_minor": 5
}
