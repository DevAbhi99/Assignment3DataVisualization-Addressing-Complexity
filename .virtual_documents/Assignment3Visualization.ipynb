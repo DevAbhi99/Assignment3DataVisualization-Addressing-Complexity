import pandas as pd
import plotly.express as px
from dash import Dash, dcc, html, Input, Output


vaccination_file_path = r"C:\Users\TIRTHANKAR KHAUND\Desktop\LearnFNS\Data Visualization\Week3Assignment\vaccinationdata.csv"

try:
    vaccination_data = pd.read_csv(vaccination_file_path)
    print("Vaccination data loaded successfully!")
except FileNotFoundError as e:
    print("Error: Vaccination data file not found.")
    raise e



covid_file_path = r"C:\Users\TIRTHANKAR KHAUND\Desktop\LearnFNS\Data Visualization\Week3Assignment\WHOCOVID19globaldata.csv"

try:
    covid_data = pd.read_csv(covid_file_path)
    print("COVID-19 data loaded successfully!")
except FileNotFoundError as e:
    print("Error: COVID-19 data file not found.")
    raise e



# Columns to be displayed 
vaccination_numeric_columns = [
    'TOTAL_VACCINATIONS',
    'PERSONS_VACCINATED_1PLUS_DOSE',
    'PERSONS_LAST_DOSE',
    'PERSONS_BOOSTER_ADD_DOSE',
    'TOTAL_VACCINATIONS_PER100',
    'PERSONS_VACCINATED_1PLUS_DOSE_PER100',
    'PERSONS_LAST_DOSE_PER100',
    'PERSONS_BOOSTER_ADD_DOSE_PER100'
]

vaccination_cleaned_data = vaccination_data.dropna(subset=vaccination_numeric_columns + ['WHO_REGION'])

vaccination_region_data = (
    vaccination_cleaned_data.groupby('WHO_REGION')[vaccination_numeric_columns]
    .mean()
    .reset_index()
)

vaccination_region_data_long = vaccination_region_data.melt(
    id_vars='WHO_REGION',
    value_vars=vaccination_numeric_columns,
    var_name='Metric',
    value_name='Value'
)


# Columns to be displayed
covid_columns_of_interest = [
    "Cumulative_cases",
    "Cumulative_deaths",
    "New_cases",
    "New_deaths"
]

# Drop rows with missing data in relevant columns
covid_cleaned_data = covid_data.dropna(subset=covid_columns_of_interest + ["WHO_region"])

# Calculate mean of numeric columns grouped by WHO region
covid_region_data = (
    covid_cleaned_data.groupby("WHO_region")[covid_columns_of_interest]
    .mean()
    .reset_index()
)

# Reshape data for visualization
covid_region_data_long = covid_region_data.melt(
    id_vars="WHO_region",
    value_vars=covid_columns_of_interest,
    var_name="Metric",
    value_name="Value"
)


# Initializing Dash app
app = Dash(__name__)

app.layout = html.Div([
    html.H1("Interactive Vaccination and COVID-19 Metrics by WHO Region", style={'text-align': 'center', "color": "white"}),
    
    
    html.Div([
        html.Label("Select Dataset:", style={'font-weight': 'bold', "color": "white"}),
        dcc.Dropdown(
            id='dataset-selector',
            options=[
                {'label': 'Vaccination Metrics', 'value': 'vaccination'},
                {'label': 'COVID-19 Metrics', 'value': 'covid'}
            ],
            value='vaccination',
            style={
                'width': '50%',
                'margin': '0 auto',
                'background-color': 'lightgreen',  
                'color': 'black'  
            }
        )
    ], style={'text-align': 'center', 'margin-bottom': '20px'}),
    
    
    html.Div([
        html.Label("Select Chart Type:", style={'font-weight': 'bold', "color": "white"}),
        dcc.Dropdown(
            id='chart-type-selector',
            options=[
                {'label': 'Bar Chart', 'value': 'bar'},
                {'label': 'Bubble Chart', 'value': 'bubble'},
                {'label': 'Line Chart', 'value': 'line'}
            ],
            value='bar',
            style={
                'width': '50%',
                'margin': '0 auto',
                'background-color': 'lightgreen',  
                'color': 'black'  
            }
        )
    ], style={'text-align': 'center', 'margin-bottom': '20px'}),
    
    
    dcc.Graph(id='interactive-graph', style={'height': '700px'}),
])



@app.callback(
    Output('interactive-graph', 'figure'),
    [
        Input('dataset-selector', 'value'),
        Input('chart-type-selector', 'value')
    ]
)
def update_graph(selected_dataset, chart_type):
    if selected_dataset == 'vaccination':
        data = vaccination_region_data_long
        x_col, y_col, color_col, size_col = 'WHO_REGION', 'Value', 'Metric', 'Value'
        title = "Vaccination Metrics by WHO Region"
    else:
        data = covid_region_data_long
        x_col, y_col, color_col, size_col = 'WHO_region', 'Value', 'Metric', 'Value'
        title = "COVID-19 Metrics by WHO Region"

    
    if chart_type == 'bar':
        fig = px.bar(data, x=x_col, y=y_col, color=color_col, title=title,
                     labels={x_col: 'WHO Region', y_col: 'Value', color_col: 'Metric'},
                     template='plotly_dark')
    elif chart_type == 'bubble':
        fig = px.scatter(data, x=x_col, y=y_col, color=color_col, size=size_col, title=title,
                         labels={x_col: 'WHO Region', y_col: 'Value', color_col: 'Metric'},
                         template='plotly_dark')
    elif chart_type == 'line':
        fig = px.line(data, x=x_col, y=y_col, color=color_col, title=title,
                      labels={x_col: 'WHO Region', y_col: 'Value', color_col: 'Metric'},
                      template='plotly_dark')
    else:
        fig = go.Figure()

    fig.update_layout(
        xaxis_title="WHO Region",
        yaxis_title="Value",
        legend_title="Metric",
        hovermode="closest",
        title_x=0.5,
        plot_bgcolor='rgba(0,0,0,0)',
        xaxis_tickangle=-45,
        margin={"t": 50, "b": 100, "l": 50, "r": 50}
    )
    return fig



if __name__ == '__main__':
    app.run_server(debug=True)









